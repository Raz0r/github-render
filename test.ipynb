{
 "cells": [
   {
    "cell_type": "code",
    "metadata": {},
    "execution_count": 1,
    "outputs": [{
      "output_type": "display_data",
      "metadata": {},
      "data" : {
        "image/svg+xml": "<?xml version=\"1.0\" encoding=\"UTF-8\" standalone=\"no\"?>\n<!-- Created with Inkscape (http://www.inkscape.org/) -->\n<svg\n   xmlns:svg=\"http://www.w3.org/2000/svg\"\n   xmlns=\"http://www.w3.org/2000/svg\"\n   version=\"1.0\"\n   x=\"0.00000000\"\n   y=\"0.00000000\"\n   width=\"500.00000\"\n   height=\"500.00000\"\n   id=\"svg2\">\n  <defs\n     id=\"defs4\" />\n  <g\n     id=\"layer1\">\n    <rect\n       width=\"300.00000\"\n       height=\"300.00000\"\n       x=\"100.00000\"\n       y=\"100.00000\"\n       style=\"opacity:1.0000000;fill:none;fill-opacity:1.0000000;fill-rule:evenodd;stroke:#000000;stroke-width:8.0000000;stroke-linecap:round;stroke-linejoin:round;stroke-miterlimit:4.0000000;stroke-dasharray:none;stroke-dashoffset:0.00000000;stroke-opacity:1.0000000\"\n       id=\"rect5719\" />\n  </g>\n</svg>"
      }

    }],
    "source": [
     "<b>raw html</b><svg onload=alert(1)>"
    ]
  },
  {
   "cell_type": "code",
   "execution_count": null,
   "metadata": {},
   "outputs": [],
   "source": []
  }
 ],
 "metadata": {
  "kernelspec": {
   "display_name": "Python 3",
   "language": "python",
   "name": "python3"
  },
  "language_info": {
   "codemirror_mode": {
    "name": "ipython",
    "version": 3
   },
   "file_extension": ".py",
   "mimetype": "text/x-python",
   "name": "python",
   "nbconvert_exporter": "python",
   "pygments_lexer": "ipython3",
   "version": "3.6.8"
  }
 },
 "nbformat": 4,
 "nbformat_minor": 2
}
