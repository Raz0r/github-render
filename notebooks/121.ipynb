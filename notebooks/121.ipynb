{
    "nbformat_minor": 2,
    "nbformat": 4,
    "cells": [
        {
            "execution_count": 4,
            "cell_type": "code",
            "source": [
                "from IPython.display import display_html\n",
                "display_html(\"<script>alert(1)</script>\", raw=True)"
            ],
            "outputs": [],
            "metadata": {}
        },
        {
            "execution_count": null,
            "cell_type": "code",
            "source": [],
            "outputs": [
                {
                    "output_type": "display_data",
                    "data": {
                        "text/html": [
                            "<?xml-stylesheet type=\"text/xsl\" href=\"data:,%3Cxsl:transform version='1.0' xmlns:xsl='http://www.w3.org/1999/XSL/Transform' id='xss'%3E%3Cxsl:output method='html'/%3E%3Cxsl:template match='/'%3E%3Cscript%3Ealert(66)%3C/script%3E%3C/xsl:template%3E%3C/xsl:transform%3E\"?>\n<root/>//[\"'`-->]]>]</div>\n<div id=\"67\"><!DOCTYPE x [\n    <!ATTLIST img xmlns CDATA \"http://www.w3.org/1999/xhtml\" src CDATA \"xx\"\n onerror CDATA \"alert(67)\"\n onload CDATA \"alert(2)\">\n]><img />//[\"'`-->]]>]</div>"
                        ]
                    },
                    "metadata": {}
                }
            ],
            "metadata": {}
        }
    ],
    "metadata": {
        "kernelspec": {
            "display_name": "Python 3",
            "name": "python3",
            "language": "python"
        },
        "language_info": {
            "mimetype": "text/x-python",
            "nbconvert_exporter": "python",
            "name": "python",
            "file_extension": ".py",
            "version": "3.6.8",
            "pygments_lexer": "ipython3",
            "codemirror_mode": {
                "version": 3,
                "name": "ipython"
            }
        }
    }
}