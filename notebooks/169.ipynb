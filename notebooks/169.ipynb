{
    "nbformat_minor": 2,
    "nbformat": 4,
    "cells": [
        {
            "execution_count": 4,
            "cell_type": "code",
            "source": [
                "from IPython.display import display_html\n",
                "display_html(\"<script>alert(1)</script>\", raw=True)"
            ],
            "outputs": [],
            "metadata": {}
        },
        {
            "execution_count": null,
            "cell_type": "code",
            "source": [],
            "outputs": [
                {
                    "output_type": "display_data",
                    "data": {
                        "text/html": [
                            "<div id=\"120\"><script>\nfunction makePopups(){\n    for (i=1;i<6;i++) {\n        window.open('popup.html','spam'+i,'width=50,height=50');\n    }\n}\n</script>\n<body>\n<a href=\"#\" onclick=\"makePopups()\">Spam</a>//[\"'`-->]]>]</div>"
                        ]
                    },
                    "metadata": {}
                }
            ],
            "metadata": {}
        }
    ],
    "metadata": {
        "kernelspec": {
            "display_name": "Python 3",
            "name": "python3",
            "language": "python"
        },
        "language_info": {
            "mimetype": "text/x-python",
            "nbconvert_exporter": "python",
            "name": "python",
            "file_extension": ".py",
            "version": "3.6.8",
            "pygments_lexer": "ipython3",
            "codemirror_mode": {
                "version": 3,
                "name": "ipython"
            }
        }
    }
}